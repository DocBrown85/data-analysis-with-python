{
  "nbformat": 4,
  "nbformat_minor": 0,
  "metadata": {
    "colab": {
      "provenance": [],
      "toc_visible": true
    },
    "kernelspec": {
      "name": "python3",
      "display_name": "Python 3"
    },
    "language_info": {
      "name": "python"
    }
  },
  "cells": [
    {
      "cell_type": "markdown",
      "source": [],
      "metadata": {
        "id": "1k9syeAgKKvF"
      }
    },
    {
      "cell_type": "markdown",
      "source": [
        "# Polynomial Regression\n",
        "> Documentation: https://scikit-learn.org/stable/modules/linear_model.html#polynomial-regression-extending-linear-models-with-basis-functions"
      ],
      "metadata": {
        "id": "ymDkTN__4A-k"
      }
    },
    {
      "cell_type": "markdown",
      "source": [
        "## Setup"
      ],
      "metadata": {
        "id": "ZvIz-BKU4MPw"
      }
    },
    {
      "cell_type": "code",
      "execution_count": 19,
      "metadata": {
        "id": "-3veyqvV3-Ny"
      },
      "outputs": [],
      "source": [
        "import numpy as np\n",
        "import pandas as pd\n",
        "import seaborn as sns\n",
        "import matplotlib.pyplot as plt"
      ]
    },
    {
      "cell_type": "markdown",
      "source": [
        "## Try linear simple regression first"
      ],
      "metadata": {
        "id": "_U2-DWnj9yjY"
      }
    },
    {
      "cell_type": "markdown",
      "source": [
        "### Prepare independent variable"
      ],
      "metadata": {
        "id": "U7a-bHpv4van"
      }
    },
    {
      "cell_type": "code",
      "source": [
        "x = np.random.uniform(-3, 3,(100)).reshape(-1,1)"
      ],
      "metadata": {
        "id": "FBTZUi7i4sUH"
      },
      "execution_count": 20,
      "outputs": []
    },
    {
      "cell_type": "markdown",
      "source": [
        "### Prepare dependent variable"
      ],
      "metadata": {
        "id": "lIRbDQCH4yQX"
      }
    },
    {
      "cell_type": "code",
      "source": [
        "y = x * x - x - 1\n",
        "error = np.random.rand((100)).reshape(-1, 1)\n",
        "y = y + error*2\n",
        "y = y.reshape(-1, 1)"
      ],
      "metadata": {
        "id": "aUAYtTut4jct"
      },
      "execution_count": 21,
      "outputs": []
    },
    {
      "cell_type": "markdown",
      "source": [
        "### Simple visualization"
      ],
      "metadata": {
        "id": "QNaruhxC93Uj"
      }
    },
    {
      "cell_type": "code",
      "source": [
        "plt.scatter(x, y)"
      ],
      "metadata": {
        "colab": {
          "base_uri": "https://localhost:8080/",
          "height": 452
        },
        "id": "5USBMZHx40fm",
        "outputId": "39150f9c-c0ff-4a0b-cda9-685da457a87e"
      },
      "execution_count": 22,
      "outputs": [
        {
          "output_type": "execute_result",
          "data": {
            "text/plain": [
              "<matplotlib.collections.PathCollection at 0x79f6adb1f2b0>"
            ]
          },
          "metadata": {},
          "execution_count": 22
        },
        {
          "output_type": "display_data",
          "data": {
            "text/plain": [
              "<Figure size 640x480 with 1 Axes>"
            ],
            "image/png": "[encoded data removed]"
          },
          "metadata": {}
        }
      ]
    },
    {
      "cell_type": "markdown",
      "source": [
        "### Split train and test data"
      ],
      "metadata": {
        "id": "Ilii5F-C7nwa"
      }
    },
    {
      "cell_type": "code",
      "source": [
        "from sklearn.model_selection import train_test_split\n",
        "\n",
        "\n",
        "x_train, x_test, y_train, y_test = train_test_split(x, y, test_size = 0.20)"
      ],
      "metadata": {
        "id": "YoDuCeYO7rYz"
      },
      "execution_count": 23,
      "outputs": []
    },
    {
      "cell_type": "markdown",
      "source": [
        "### Train the model"
      ],
      "metadata": {
        "id": "C8N2pqjw5GWY"
      }
    },
    {
      "cell_type": "code",
      "source": [
        "from sklearn.linear_model import LinearRegression\n",
        "\n",
        "reg = LinearRegression()\n",
        "model = reg.fit(x_train, y_train)"
      ],
      "metadata": {
        "id": "fuQQE_835INP"
      },
      "execution_count": 24,
      "outputs": []
    },
    {
      "cell_type": "code",
      "source": [
        "model.coef_, model.intercept_"
      ],
      "metadata": {
        "colab": {
          "base_uri": "https://localhost:8080/"
        },
        "id": "KjYfoY8M5ON_",
        "outputId": "ad7d26ba-07e0-43cd-d820-25c0d0324a2e"
      },
      "execution_count": 25,
      "outputs": [
        {
          "output_type": "execute_result",
          "data": {
            "text/plain": [
              "(array([[-1.06682069]]), array([2.92210619]))"
            ]
          },
          "metadata": {},
          "execution_count": 25
        }
      ]
    },
    {
      "cell_type": "markdown",
      "source": [
        "### Evaluate the model"
      ],
      "metadata": {
        "id": "tOLRNBVYAa_C"
      }
    },
    {
      "cell_type": "code",
      "source": [
        "from sklearn.metrics import mean_absolute_error,mean_squared_error, r2_score\n",
        "\n",
        "y_pred = model.predict(x_test)\n",
        "mae = mean_absolute_error(y_true=y_test,y_pred=y_pred)\n",
        "mse = mean_squared_error(y_true=y_test,y_pred=y_pred)\n",
        "rmse = mean_squared_error(y_true=y_test,y_pred=y_pred)\n",
        "mse = mean_squared_error(y_test, y_pred)\n",
        "r2 = r2_score(y_test, y_pred)\n",
        "\n",
        "print('MAE: {} MSE: {} RMSE: {} R^2 {}'.format(mae, mse, rmse, r2))"
      ],
      "metadata": {
        "colab": {
          "base_uri": "https://localhost:8080/"
        },
        "id": "LksKn3MXAeSz",
        "outputId": "3ffc90bc-047f-4809-a6fe-917f2b23954f"
      },
      "execution_count": 26,
      "outputs": [
        {
          "output_type": "stream",
          "name": "stdout",
          "text": [
            "MAE: 2.5980690599917042 MSE: 9.099784112966338 RMSE: 9.099784112966338 R^2 -0.05520353196309258\n"
          ]
        }
      ]
    },
    {
      "cell_type": "markdown",
      "source": [
        "### Visualiza your result"
      ],
      "metadata": {
        "id": "WTfRQ7sL8ZZV"
      }
    },
    {
      "cell_type": "code",
      "source": [
        "plt.scatter(x, y)\n",
        "plt.scatter(x_test, y_pred)"
      ],
      "metadata": {
        "colab": {
          "base_uri": "https://localhost:8080/",
          "height": 452
        },
        "id": "pIX1ROx45x4l",
        "outputId": "ade33ed3-48e6-4afc-a8f7-bbc20afd23ca"
      },
      "execution_count": 27,
      "outputs": [
        {
          "output_type": "execute_result",
          "data": {
            "text/plain": [
              "<matplotlib.collections.PathCollection at 0x79f6b0a50ee0>"
            ]
          },
          "metadata": {},
          "execution_count": 27
        },
        {
          "output_type": "display_data",
          "data": {
            "text/plain": [
              "<Figure size 640x480 with 1 Axes>"
            ],
            "image/png": "[encoded data removed]"
          },
          "metadata": {}
        }
      ]
    },
    {
      "cell_type": "markdown",
      "source": [
        "### Not so good, isn't it?"
      ],
      "metadata": {
        "id": "gADYfTZVDkkt"
      }
    },
    {
      "cell_type": "markdown",
      "source": [
        "## Try polinomial features\n",
        "\n"
      ],
      "metadata": {
        "id": "5WPIAkwsNovx"
      }
    },
    {
      "cell_type": "code",
      "source": [
        "from sklearn.model_selection import train_test_split\n",
        "\n",
        "\n",
        "x_train, x_test, y_train, y_test = train_test_split(x, y, test_size = 0.20)"
      ],
      "metadata": {
        "id": "1iLxKcXdV2oh"
      },
      "execution_count": 28,
      "outputs": []
    },
    {
      "cell_type": "code",
      "source": [
        "from sklearn.preprocessing import PolynomialFeatures\n",
        "\n",
        "poly = PolynomialFeatures(degree=2)\n",
        "poly_train = poly.fit_transform(x_train.reshape(-1, 1))\n",
        "poly_test = poly.fit_transform(x_test.reshape(-1, 1))"
      ],
      "metadata": {
        "id": "ZnGX_oqNPECu"
      },
      "execution_count": 29,
      "outputs": []
    },
    {
      "cell_type": "code",
      "source": [
        "poly_train"
      ],
      "metadata": {
        "colab": {
          "base_uri": "https://localhost:8080/"
        },
        "id": "Bt0AI96QUfLy",
        "outputId": "014e45aa-d39d-4b97-ae0f-cacd501e171f"
      },
      "execution_count": 30,
      "outputs": [
        {
          "output_type": "execute_result",
          "data": {
            "text/plain": [
              "array([[ 1.00000000e+00, -2.21415439e-01,  4.90247965e-02],\n",
              "       [ 1.00000000e+00,  8.82798409e-01,  7.79333030e-01],\n",
              "       [ 1.00000000e+00, -1.20022985e+00,  1.44055170e+00],\n",
              "       [ 1.00000000e+00, -2.74941454e+00,  7.55928031e+00],\n",
              "       [ 1.00000000e+00,  1.71132250e+00,  2.92862471e+00],\n",
              "       [ 1.00000000e+00, -2.31539790e-01,  5.36106743e-02],\n",
              "       [ 1.00000000e+00,  6.28134964e-01,  3.94553532e-01],\n",
              "       [ 1.00000000e+00, -3.38951626e-01,  1.14888205e-01],\n",
              "       [ 1.00000000e+00,  3.27167963e-01,  1.07038876e-01],\n",
              "       [ 1.00000000e+00,  1.78928681e+00,  3.20154729e+00],\n",
              "       [ 1.00000000e+00, -9.30522244e-01,  8.65871647e-01],\n",
              "       [ 1.00000000e+00, -1.16500022e+00,  1.35722551e+00],\n",
              "       [ 1.00000000e+00,  2.06209368e+00,  4.25223035e+00],\n",
              "       [ 1.00000000e+00,  1.97747580e+00,  3.91041054e+00],\n",
              "       [ 1.00000000e+00,  1.86782862e+00,  3.48878376e+00],\n",
              "       [ 1.00000000e+00, -1.17272963e+00,  1.37529479e+00],\n",
              "       [ 1.00000000e+00, -2.51212989e+00,  6.31079659e+00],\n",
              "       [ 1.00000000e+00,  3.59229723e-01,  1.29045994e-01],\n",
              "       [ 1.00000000e+00, -1.54897908e+00,  2.39933618e+00],\n",
              "       [ 1.00000000e+00,  2.92742371e+00,  8.56980957e+00],\n",
              "       [ 1.00000000e+00, -8.88328807e-01,  7.89128069e-01],\n",
              "       [ 1.00000000e+00, -4.88746065e-01,  2.38872716e-01],\n",
              "       [ 1.00000000e+00, -4.90828765e-02,  2.40912877e-03],\n",
              "       [ 1.00000000e+00, -2.43943398e+00,  5.95083817e+00],\n",
              "       [ 1.00000000e+00,  2.92578757e+00,  8.56023291e+00],\n",
              "       [ 1.00000000e+00,  1.39109821e+00,  1.93515424e+00],\n",
              "       [ 1.00000000e+00, -1.45035107e+00,  2.10351823e+00],\n",
              "       [ 1.00000000e+00,  1.46412518e+00,  2.14366255e+00],\n",
              "       [ 1.00000000e+00, -2.91903900e+00,  8.52078866e+00],\n",
              "       [ 1.00000000e+00,  2.67705113e+00,  7.16660273e+00],\n",
              "       [ 1.00000000e+00, -2.87579810e-01,  8.27021472e-02],\n",
              "       [ 1.00000000e+00, -6.86732687e-02,  4.71601783e-03],\n",
              "       [ 1.00000000e+00, -1.32775566e+00,  1.76293509e+00],\n",
              "       [ 1.00000000e+00, -1.82841099e+00,  3.34308674e+00],\n",
              "       [ 1.00000000e+00, -2.71358363e+00,  7.36353609e+00],\n",
              "       [ 1.00000000e+00,  2.87946482e+00,  8.29131764e+00],\n",
              "       [ 1.00000000e+00,  1.60318621e+00,  2.57020604e+00],\n",
              "       [ 1.00000000e+00, -1.41343296e+00,  1.99779274e+00],\n",
              "       [ 1.00000000e+00,  3.01267893e-01,  9.07623431e-02],\n",
              "       [ 1.00000000e+00,  2.57445336e+00,  6.62781011e+00],\n",
              "       [ 1.00000000e+00,  3.37903175e-01,  1.14178556e-01],\n",
              "       [ 1.00000000e+00,  2.44923306e+00,  5.99874259e+00],\n",
              "       [ 1.00000000e+00, -2.68066599e-01,  7.18597013e-02],\n",
              "       [ 1.00000000e+00,  2.72551498e+00,  7.42843189e+00],\n",
              "       [ 1.00000000e+00, -2.83928649e+00,  8.06154778e+00],\n",
              "       [ 1.00000000e+00,  6.22491019e-01,  3.87495069e-01],\n",
              "       [ 1.00000000e+00, -2.43579805e-01,  5.93311215e-02],\n",
              "       [ 1.00000000e+00, -2.26510519e+00,  5.13070150e+00],\n",
              "       [ 1.00000000e+00,  7.18113482e-01,  5.15686973e-01],\n",
              "       [ 1.00000000e+00,  2.96751076e-01,  8.80612012e-02],\n",
              "       [ 1.00000000e+00, -7.26042463e-01,  5.27137658e-01],\n",
              "       [ 1.00000000e+00, -1.88050882e+00,  3.53631343e+00],\n",
              "       [ 1.00000000e+00, -1.49178646e+00,  2.22542684e+00],\n",
              "       [ 1.00000000e+00, -5.43232719e-01,  2.95101787e-01],\n",
              "       [ 1.00000000e+00,  2.95725162e+00,  8.74533716e+00],\n",
              "       [ 1.00000000e+00, -1.08811384e+00,  1.18399174e+00],\n",
              "       [ 1.00000000e+00, -2.56158070e+00,  6.56169566e+00],\n",
              "       [ 1.00000000e+00, -9.51347719e-01,  9.05062483e-01],\n",
              "       [ 1.00000000e+00, -3.20090555e-01,  1.02457963e-01],\n",
              "       [ 1.00000000e+00,  2.64582855e+00,  7.00040870e+00],\n",
              "       [ 1.00000000e+00, -1.80496355e+00,  3.25789343e+00],\n",
              "       [ 1.00000000e+00,  2.05662748e+00,  4.22971661e+00],\n",
              "       [ 1.00000000e+00, -2.82117703e+00,  7.95903982e+00],\n",
              "       [ 1.00000000e+00, -2.34563093e+00,  5.50198444e+00],\n",
              "       [ 1.00000000e+00, -1.76612580e+00,  3.11920036e+00],\n",
              "       [ 1.00000000e+00, -6.96125497e-01,  4.84590708e-01],\n",
              "       [ 1.00000000e+00, -1.48031553e+00,  2.19133407e+00],\n",
              "       [ 1.00000000e+00,  1.70837743e+00,  2.91855343e+00],\n",
              "       [ 1.00000000e+00,  2.87098526e+00,  8.24255637e+00],\n",
              "       [ 1.00000000e+00, -1.52011312e+00,  2.31074390e+00],\n",
              "       [ 1.00000000e+00, -2.84064903e+00,  8.06928692e+00],\n",
              "       [ 1.00000000e+00, -2.97345134e-01,  8.84141286e-02],\n",
              "       [ 1.00000000e+00, -2.12869425e+00,  4.53133922e+00],\n",
              "       [ 1.00000000e+00,  5.33578400e-01,  2.84705909e-01],\n",
              "       [ 1.00000000e+00, -1.13804873e+00,  1.29515492e+00],\n",
              "       [ 1.00000000e+00,  1.20828288e+00,  1.45994751e+00],\n",
              "       [ 1.00000000e+00,  2.56458311e+00,  6.57708651e+00],\n",
              "       [ 1.00000000e+00, -7.40045632e-01,  5.47667537e-01],\n",
              "       [ 1.00000000e+00,  1.96200414e+00,  3.84946026e+00],\n",
              "       [ 1.00000000e+00, -5.33282921e-01,  2.84390674e-01]])"
            ]
          },
          "metadata": {},
          "execution_count": 30
        }
      ]
    },
    {
      "cell_type": "markdown",
      "source": [
        "### Train the model with polynomial features"
      ],
      "metadata": {
        "id": "LcU3unLDZehm"
      }
    },
    {
      "cell_type": "code",
      "source": [
        "from sklearn.linear_model import LinearRegression\n",
        "\n",
        "poly_reg_model = LinearRegression()\n",
        "poly_reg_model.fit(poly_train, y_train)"
      ],
      "metadata": {
        "colab": {
          "base_uri": "https://localhost:8080/",
          "height": 80
        },
        "id": "cSOHZi0aPdzM",
        "outputId": "2e894426-0ef9-4db0-841d-cf46c389908b"
      },
      "execution_count": 31,
      "outputs": [
        {
          "output_type": "execute_result",
          "data": {
            "text/plain": [
              "LinearRegression()"
            ],
            "text/html": [
              "<style>#sk-container-id-2 {\n",
              "  /* Definition of color scheme common for light and dark mode */\n",
              "  --sklearn-color-text: #000;\n",
              "  --sklearn-color-text-muted: #666;\n",
              "  --sklearn-color-line: gray;\n",
              "  /* Definition of color scheme for unfitted estimators */\n",
              "  --sklearn-color-unfitted-level-0: #fff5e6;\n",
              "  --sklearn-color-unfitted-level-1: #f6e4d2;\n",
              "  --sklearn-color-unfitted-level-2: #ffe0b3;\n",
              "  --sklearn-color-unfitted-level-3: chocolate;\n",
              "  /* Definition of color scheme for fitted estimators */\n",
              "  --sklearn-color-fitted-level-0: #f0f8ff;\n",
              "  --sklearn-color-fitted-level-1: #d4ebff;\n",
              "  --sklearn-color-fitted-level-2: #b3dbfd;\n",
              "  --sklearn-color-fitted-level-3: cornflowerblue;\n",
              "\n",
              "  /* Specific color for light theme */\n",
              "  --sklearn-color-text-on-default-background: var(--sg-text-color, var(--theme-code-foreground, var(--jp-content-font-color1, black)));\n",
              "  --sklearn-color-background: var(--sg-background-color, var(--theme-background, var(--jp-layout-color0, white)));\n",
              "  --sklearn-color-border-box: var(--sg-text-color, var(--theme-code-foreground, var(--jp-content-font-color1, black)));\n",
              "  --sklearn-color-icon: #696969;\n",
              "\n",
              "  @media (prefers-color-scheme: dark) {\n",
              "    /* Redefinition of color scheme for dark theme */\n",
              "    --sklearn-color-text-on-default-background: var(--sg-text-color, var(--theme-code-foreground, var(--jp-content-font-color1, white)));\n",
              "    --sklearn-color-background: var(--sg-background-color, var(--theme-background, var(--jp-layout-color0, #111)));\n",
              "    --sklearn-color-border-box: var(--sg-text-color, var(--theme-code-foreground, var(--jp-content-font-color1, white)));\n",
              "    --sklearn-color-icon: #878787;\n",
              "  }\n",
              "}\n",
              "\n",
              "#sk-container-id-2 {\n",
              "  color: var(--sklearn-color-text);\n",
              "}\n",
              "\n",
              "#sk-container-id-2 pre {\n",
              "  padding: 0;\n",
              "}\n",
              "\n",
              "#sk-container-id-2 input.sk-hidden--visually {\n",
              "  border: 0;\n",
              "  clip: rect(1px 1px 1px 1px);\n",
              "  clip: rect(1px, 1px, 1px, 1px);\n",
              "  height: 1px;\n",
              "  margin: -1px;\n",
              "  overflow: hidden;\n",
              "  padding: 0;\n",
              "  position: absolute;\n",
              "  width: 1px;\n",
              "}\n",
              "\n",
              "#sk-container-id-2 div.sk-dashed-wrapped {\n",
              "  border: 1px dashed var(--sklearn-color-line);\n",
              "  margin: 0 0.4em 0.5em 0.4em;\n",
              "  box-sizing: border-box;\n",
              "  padding-bottom: 0.4em;\n",
              "  background-color: var(--sklearn-color-background);\n",
              "}\n",
              "\n",
              "#sk-container-id-2 div.sk-container {\n",
              "  /* jupyter's `normalize.less` sets `[hidden] { display: none; }`\n",
              "     but bootstrap.min.css set `[hidden] { display: none !important; }`\n",
              "     so we also need the `!important` here to be able to override the\n",
              "     default hidden behavior on the sphinx rendered scikit-learn.org.\n",
              "     See: https://github.com/scikit-learn/scikit-learn/issues/21755 */\n",
              "  display: inline-block !important;\n",
              "  position: relative;\n",
              "}\n",
              "\n",
              "#sk-container-id-2 div.sk-text-repr-fallback {\n",
              "  display: none;\n",
              "}\n",
              "\n",
              "div.sk-parallel-item,\n",
              "div.sk-serial,\n",
              "div.sk-item {\n",
              "  /* draw centered vertical line to link estimators */\n",
              "  background-image: linear-gradient(var(--sklearn-color-text-on-default-background), var(--sklearn-color-text-on-default-background));\n",
              "  background-size: 2px 100%;\n",
              "  background-repeat: no-repeat;\n",
              "  background-position: center center;\n",
              "}\n",
              "\n",
              "/* Parallel-specific style estimator block */\n",
              "\n",
              "#sk-container-id-2 div.sk-parallel-item::after {\n",
              "  content: \"\";\n",
              "  width: 100%;\n",
              "  border-bottom: 2px solid var(--sklearn-color-text-on-default-background);\n",
              "  flex-grow: 1;\n",
              "}\n",
              "\n",
              "#sk-container-id-2 div.sk-parallel {\n",
              "  display: flex;\n",
              "  align-items: stretch;\n",
              "  justify-content: center;\n",
              "  background-color: var(--sklearn-color-background);\n",
              "  position: relative;\n",
              "}\n",
              "\n",
              "#sk-container-id-2 div.sk-parallel-item {\n",
              "  display: flex;\n",
              "  flex-direction: column;\n",
              "}\n",
              "\n",
              "#sk-container-id-2 div.sk-parallel-item:first-child::after {\n",
              "  align-self: flex-end;\n",
              "  width: 50%;\n",
              "}\n",
              "\n",
              "#sk-container-id-2 div.sk-parallel-item:last-child::after {\n",
              "  align-self: flex-start;\n",
              "  width: 50%;\n",
              "}\n",
              "\n",
              "#sk-container-id-2 div.sk-parallel-item:only-child::after {\n",
              "  width: 0;\n",
              "}\n",
              "\n",
              "/* Serial-specific style estimator block */\n",
              "\n",
              "#sk-container-id-2 div.sk-serial {\n",
              "  display: flex;\n",
              "  flex-direction: column;\n",
              "  align-items: center;\n",
              "  background-color: var(--sklearn-color-background);\n",
              "  padding-right: 1em;\n",
              "  padding-left: 1em;\n",
              "}\n",
              "\n",
              "\n",
              "/* Toggleable style: style used for estimator/Pipeline/ColumnTransformer box that is\n",
              "clickable and can be expanded/collapsed.\n",
              "- Pipeline and ColumnTransformer use this feature and define the default style\n",
              "- Estimators will overwrite some part of the style using the `sk-estimator` class\n",
              "*/\n",
              "\n",
              "/* Pipeline and ColumnTransformer style (default) */\n",
              "\n",
              "#sk-container-id-2 div.sk-toggleable {\n",
              "  /* Default theme specific background. It is overwritten whether we have a\n",
              "  specific estimator or a Pipeline/ColumnTransformer */\n",
              "  background-color: var(--sklearn-color-background);\n",
              "}\n",
              "\n",
              "/* Toggleable label */\n",
              "#sk-container-id-2 label.sk-toggleable__label {\n",
              "  cursor: pointer;\n",
              "  display: flex;\n",
              "  width: 100%;\n",
              "  margin-bottom: 0;\n",
              "  padding: 0.5em;\n",
              "  box-sizing: border-box;\n",
              "  text-align: center;\n",
              "  align-items: start;\n",
              "  justify-content: space-between;\n",
              "  gap: 0.5em;\n",
              "}\n",
              "\n",
              "#sk-container-id-2 label.sk-toggleable__label .caption {\n",
              "  font-size: 0.6rem;\n",
              "  font-weight: lighter;\n",
              "  color: var(--sklearn-color-text-muted);\n",
              "}\n",
              "\n",
              "#sk-container-id-2 label.sk-toggleable__label-arrow:before {\n",
              "  /* Arrow on the left of the label */\n",
              "  content: \"▸\";\n",
              "  float: left;\n",
              "  margin-right: 0.25em;\n",
              "  color: var(--sklearn-color-icon);\n",
              "}\n",
              "\n",
              "#sk-container-id-2 label.sk-toggleable__label-arrow:hover:before {\n",
              "  color: var(--sklearn-color-text);\n",
              "}\n",
              "\n",
              "/* Toggleable content - dropdown */\n",
              "\n",
              "#sk-container-id-2 div.sk-toggleable__content {\n",
              "  max-height: 0;\n",
              "  max-width: 0;\n",
              "  overflow: hidden;\n",
              "  text-align: left;\n",
              "  /* unfitted */\n",
              "  background-color: var(--sklearn-color-unfitted-level-0);\n",
              "}\n",
              "\n",
              "#sk-container-id-2 div.sk-toggleable__content.fitted {\n",
              "  /* fitted */\n",
              "  background-color: var(--sklearn-color-fitted-level-0);\n",
              "}\n",
              "\n",
              "#sk-container-id-2 div.sk-toggleable__content pre {\n",
              "  margin: 0.2em;\n",
              "  border-radius: 0.25em;\n",
              "  color: var(--sklearn-color-text);\n",
              "  /* unfitted */\n",
              "  background-color: var(--sklearn-color-unfitted-level-0);\n",
              "}\n",
              "\n",
              "#sk-container-id-2 div.sk-toggleable__content.fitted pre {\n",
              "  /* unfitted */\n",
              "  background-color: var(--sklearn-color-fitted-level-0);\n",
              "}\n",
              "\n",
              "#sk-container-id-2 input.sk-toggleable__control:checked~div.sk-toggleable__content {\n",
              "  /* Expand drop-down */\n",
              "  max-height: 200px;\n",
              "  max-width: 100%;\n",
              "  overflow: auto;\n",
              "}\n",
              "\n",
              "#sk-container-id-2 input.sk-toggleable__control:checked~label.sk-toggleable__label-arrow:before {\n",
              "  content: \"▾\";\n",
              "}\n",
              "\n",
              "/* Pipeline/ColumnTransformer-specific style */\n",
              "\n",
              "#sk-container-id-2 div.sk-label input.sk-toggleable__control:checked~label.sk-toggleable__label {\n",
              "  color: var(--sklearn-color-text);\n",
              "  background-color: var(--sklearn-color-unfitted-level-2);\n",
              "}\n",
              "\n",
              "#sk-container-id-2 div.sk-label.fitted input.sk-toggleable__control:checked~label.sk-toggleable__label {\n",
              "  background-color: var(--sklearn-color-fitted-level-2);\n",
              "}\n",
              "\n",
              "/* Estimator-specific style */\n",
              "\n",
              "/* Colorize estimator box */\n",
              "#sk-container-id-2 div.sk-estimator input.sk-toggleable__control:checked~label.sk-toggleable__label {\n",
              "  /* unfitted */\n",
              "  background-color: var(--sklearn-color-unfitted-level-2);\n",
              "}\n",
              "\n",
              "#sk-container-id-2 div.sk-estimator.fitted input.sk-toggleable__control:checked~label.sk-toggleable__label {\n",
              "  /* fitted */\n",
              "  background-color: var(--sklearn-color-fitted-level-2);\n",
              "}\n",
              "\n",
              "#sk-container-id-2 div.sk-label label.sk-toggleable__label,\n",
              "#sk-container-id-2 div.sk-label label {\n",
              "  /* The background is the default theme color */\n",
              "  color: var(--sklearn-color-text-on-default-background);\n",
              "}\n",
              "\n",
              "/* On hover, darken the color of the background */\n",
              "#sk-container-id-2 div.sk-label:hover label.sk-toggleable__label {\n",
              "  color: var(--sklearn-color-text);\n",
              "  background-color: var(--sklearn-color-unfitted-level-2);\n",
              "}\n",
              "\n",
              "/* Label box, darken color on hover, fitted */\n",
              "#sk-container-id-2 div.sk-label.fitted:hover label.sk-toggleable__label.fitted {\n",
              "  color: var(--sklearn-color-text);\n",
              "  background-color: var(--sklearn-color-fitted-level-2);\n",
              "}\n",
              "\n",
              "/* Estimator label */\n",
              "\n",
              "#sk-container-id-2 div.sk-label label {\n",
              "  font-family: monospace;\n",
              "  font-weight: bold;\n",
              "  display: inline-block;\n",
              "  line-height: 1.2em;\n",
              "}\n",
              "\n",
              "#sk-container-id-2 div.sk-label-container {\n",
              "  text-align: center;\n",
              "}\n",
              "\n",
              "/* Estimator-specific */\n",
              "#sk-container-id-2 div.sk-estimator {\n",
              "  font-family: monospace;\n",
              "  border: 1px dotted var(--sklearn-color-border-box);\n",
              "  border-radius: 0.25em;\n",
              "  box-sizing: border-box;\n",
              "  margin-bottom: 0.5em;\n",
              "  /* unfitted */\n",
              "  background-color: var(--sklearn-color-unfitted-level-0);\n",
              "}\n",
              "\n",
              "#sk-container-id-2 div.sk-estimator.fitted {\n",
              "  /* fitted */\n",
              "  background-color: var(--sklearn-color-fitted-level-0);\n",
              "}\n",
              "\n",
              "/* on hover */\n",
              "#sk-container-id-2 div.sk-estimator:hover {\n",
              "  /* unfitted */\n",
              "  background-color: var(--sklearn-color-unfitted-level-2);\n",
              "}\n",
              "\n",
              "#sk-container-id-2 div.sk-estimator.fitted:hover {\n",
              "  /* fitted */\n",
              "  background-color: var(--sklearn-color-fitted-level-2);\n",
              "}\n",
              "\n",
              "/* Specification for estimator info (e.g. \"i\" and \"?\") */\n",
              "\n",
              "/* Common style for \"i\" and \"?\" */\n",
              "\n",
              ".sk-estimator-doc-link,\n",
              "a:link.sk-estimator-doc-link,\n",
              "a:visited.sk-estimator-doc-link {\n",
              "  float: right;\n",
              "  font-size: smaller;\n",
              "  line-height: 1em;\n",
              "  font-family: monospace;\n",
              "  background-color: var(--sklearn-color-background);\n",
              "  border-radius: 1em;\n",
              "  height: 1em;\n",
              "  width: 1em;\n",
              "  text-decoration: none !important;\n",
              "  margin-left: 0.5em;\n",
              "  text-align: center;\n",
              "  /* unfitted */\n",
              "  border: var(--sklearn-color-unfitted-level-1) 1pt solid;\n",
              "  color: var(--sklearn-color-unfitted-level-1);\n",
              "}\n",
              "\n",
              ".sk-estimator-doc-link.fitted,\n",
              "a:link.sk-estimator-doc-link.fitted,\n",
              "a:visited.sk-estimator-doc-link.fitted {\n",
              "  /* fitted */\n",
              "  border: var(--sklearn-color-fitted-level-1) 1pt solid;\n",
              "  color: var(--sklearn-color-fitted-level-1);\n",
              "}\n",
              "\n",
              "/* On hover */\n",
              "div.sk-estimator:hover .sk-estimator-doc-link:hover,\n",
              ".sk-estimator-doc-link:hover,\n",
              "div.sk-label-container:hover .sk-estimator-doc-link:hover,\n",
              ".sk-estimator-doc-link:hover {\n",
              "  /* unfitted */\n",
              "  background-color: var(--sklearn-color-unfitted-level-3);\n",
              "  color: var(--sklearn-color-background);\n",
              "  text-decoration: none;\n",
              "}\n",
              "\n",
              "div.sk-estimator.fitted:hover .sk-estimator-doc-link.fitted:hover,\n",
              ".sk-estimator-doc-link.fitted:hover,\n",
              "div.sk-label-container:hover .sk-estimator-doc-link.fitted:hover,\n",
              ".sk-estimator-doc-link.fitted:hover {\n",
              "  /* fitted */\n",
              "  background-color: var(--sklearn-color-fitted-level-3);\n",
              "  color: var(--sklearn-color-background);\n",
              "  text-decoration: none;\n",
              "}\n",
              "\n",
              "/* Span, style for the box shown on hovering the info icon */\n",
              ".sk-estimator-doc-link span {\n",
              "  display: none;\n",
              "  z-index: 9999;\n",
              "  position: relative;\n",
              "  font-weight: normal;\n",
              "  right: .2ex;\n",
              "  padding: .5ex;\n",
              "  margin: .5ex;\n",
              "  width: min-content;\n",
              "  min-width: 20ex;\n",
              "  max-width: 50ex;\n",
              "  color: var(--sklearn-color-text);\n",
              "  box-shadow: 2pt 2pt 4pt #999;\n",
              "  /* unfitted */\n",
              "  background: var(--sklearn-color-unfitted-level-0);\n",
              "  border: .5pt solid var(--sklearn-color-unfitted-level-3);\n",
              "}\n",
              "\n",
              ".sk-estimator-doc-link.fitted span {\n",
              "  /* fitted */\n",
              "  background: var(--sklearn-color-fitted-level-0);\n",
              "  border: var(--sklearn-color-fitted-level-3);\n",
              "}\n",
              "\n",
              ".sk-estimator-doc-link:hover span {\n",
              "  display: block;\n",
              "}\n",
              "\n",
              "/* \"?\"-specific style due to the `<a>` HTML tag */\n",
              "\n",
              "#sk-container-id-2 a.estimator_doc_link {\n",
              "  float: right;\n",
              "  font-size: 1rem;\n",
              "  line-height: 1em;\n",
              "  font-family: monospace;\n",
              "  background-color: var(--sklearn-color-background);\n",
              "  border-radius: 1rem;\n",
              "  height: 1rem;\n",
              "  width: 1rem;\n",
              "  text-decoration: none;\n",
              "  /* unfitted */\n",
              "  color: var(--sklearn-color-unfitted-level-1);\n",
              "  border: var(--sklearn-color-unfitted-level-1) 1pt solid;\n",
              "}\n",
              "\n",
              "#sk-container-id-2 a.estimator_doc_link.fitted {\n",
              "  /* fitted */\n",
              "  border: var(--sklearn-color-fitted-level-1) 1pt solid;\n",
              "  color: var(--sklearn-color-fitted-level-1);\n",
              "}\n",
              "\n",
              "/* On hover */\n",
              "#sk-container-id-2 a.estimator_doc_link:hover {\n",
              "  /* unfitted */\n",
              "  background-color: var(--sklearn-color-unfitted-level-3);\n",
              "  color: var(--sklearn-color-background);\n",
              "  text-decoration: none;\n",
              "}\n",
              "\n",
              "#sk-container-id-2 a.estimator_doc_link.fitted:hover {\n",
              "  /* fitted */\n",
              "  background-color: var(--sklearn-color-fitted-level-3);\n",
              "}\n",
              "</style><div id=\"sk-container-id-2\" class=\"sk-top-container\"><div class=\"sk-text-repr-fallback\"><pre>LinearRegression()</pre><b>In a Jupyter environment, please rerun this cell to show the HTML representation or trust the notebook. <br />On GitHub, the HTML representation is unable to render, please try loading this page with nbviewer.org.</b></div><div class=\"sk-container\" hidden><div class=\"sk-item\"><div class=\"sk-estimator fitted sk-toggleable\"><input class=\"sk-toggleable__control sk-hidden--visually\" id=\"sk-estimator-id-2\" type=\"checkbox\" checked><label for=\"sk-estimator-id-2\" class=\"sk-toggleable__label fitted sk-toggleable__label-arrow\"><div><div>LinearRegression</div></div><div><a class=\"sk-estimator-doc-link fitted\" rel=\"noreferrer\" target=\"_blank\" href=\"https://scikit-learn.org/1.6/modules/generated/sklearn.linear_model.LinearRegression.html\">?<span>Documentation for LinearRegression</span></a><span class=\"sk-estimator-doc-link fitted\">i<span>Fitted</span></span></div></label><div class=\"sk-toggleable__content fitted\"><pre>LinearRegression()</pre></div> </div></div></div></div>"
            ]
          },
          "metadata": {},
          "execution_count": 31
        }
      ]
    },
    {
      "cell_type": "markdown",
      "source": [
        "### Evaluate the model"
      ],
      "metadata": {
        "id": "Xe548ZLIZhb0"
      }
    },
    {
      "cell_type": "code",
      "source": [
        "from sklearn.metrics import mean_absolute_error,mean_squared_error, r2_score\n",
        "\n",
        "y_pred = poly_reg_model.predict(poly_test)\n",
        "mae = mean_absolute_error(y_true=y_test,y_pred=y_pred)\n",
        "mse = mean_squared_error(y_true=y_test,y_pred=y_pred)\n",
        "rmse = mean_squared_error(y_true=y_test,y_pred=y_pred)\n",
        "mse = mean_squared_error(y_test, y_pred)\n",
        "r2 = r2_score(y_test, y_pred)\n",
        "\n",
        "print('MAE: {} MSE: {} RMSE: {} R^2 {}'.format(mae, mse, rmse, r2))"
      ],
      "metadata": {
        "colab": {
          "base_uri": "https://localhost:8080/"
        },
        "id": "Z3SkgS5wQrrI",
        "outputId": "fb51dbd9-c9d9-4779-a4a1-84ec15adf4fc"
      },
      "execution_count": 32,
      "outputs": [
        {
          "output_type": "stream",
          "name": "stdout",
          "text": [
            "MAE: 0.39977800937942537 MSE: 0.23133363450252756 RMSE: 0.23133363450252756 R^2 0.9830047221703548\n"
          ]
        }
      ]
    },
    {
      "cell_type": "markdown",
      "source": [
        "### Visualize the model"
      ],
      "metadata": {
        "id": "cMENpewtZjQ0"
      }
    },
    {
      "cell_type": "code",
      "source": [
        "plt.scatter(x, y)\n",
        "plt.scatter(x_test, y_pred)"
      ],
      "metadata": {
        "colab": {
          "base_uri": "https://localhost:8080/",
          "height": 452
        },
        "id": "Xw_R_-o8QwGF",
        "outputId": "30d77c02-c5a5-4984-e275-657d30a65d80"
      },
      "execution_count": 33,
      "outputs": [
        {
          "output_type": "execute_result",
          "data": {
            "text/plain": [
              "<matplotlib.collections.PathCollection at 0x79f6ae275660>"
            ]
          },
          "metadata": {},
          "execution_count": 33
        },
        {
          "output_type": "display_data",
          "data": {
            "text/plain": [
              "<Figure size 640x480 with 1 Axes>"
            ],
            "image/png": "[encoded data removed]"
          },
          "metadata": {}
        }
      ]
    },
    {
      "cell_type": "markdown",
      "source": [
        "### Much better! Isn't it?\n",
        "Is the degree higher, the result better? How about we do degree as 51?"
      ],
      "metadata": {
        "id": "DVjoe-mODeYl"
      }
    },
    {
      "cell_type": "code",
      "source": [
        "poly = PolynomialFeatures(degree=51)\n",
        "poly_train = poly.fit_transform(x_train.reshape(-1, 1))\n",
        "poly_test = poly.fit_transform(x_test.reshape(-1, 1))\n",
        "poly_reg_model = LinearRegression()\n",
        "poly_reg_model.fit(poly_train, y_train)\n",
        "y_pred = poly_reg_model.predict(poly_train)\n",
        "mae = mean_absolute_error(y_true=y_train,y_pred=y_pred)\n",
        "mse = mean_squared_error(y_true=y_train,y_pred=y_pred)\n",
        "rmse = mean_squared_error(y_true=y_train,y_pred=y_pred)\n",
        "mse = mean_squared_error(y_train, y_pred)\n",
        "r2 = r2_score(y_train, y_pred)\n",
        "\n",
        "print('''Training:\n",
        "          MAE: {}\n",
        "          MSE: {}\n",
        "          RMSE: {}\n",
        "          R^2 {}'''.format(mae, mse, rmse, r2))\n",
        "\n",
        "y_pred = poly_reg_model.predict(poly_test)\n",
        "mae = mean_absolute_error(y_true=y_test,y_pred=y_pred)\n",
        "mse = mean_squared_error(y_true=y_test,y_pred=y_pred)\n",
        "rmse = mean_squared_error(y_true=y_test,y_pred=y_pred)\n",
        "mse = mean_squared_error(y_test, y_pred)\n",
        "r2 = r2_score(y_test, y_pred)\n",
        "print('''Testing:\n",
        "          MAE: {}\n",
        "          MSE: {}\n",
        "          RMSE: {}\n",
        "          R^2 {}'''.format(mae, mse, rmse, r2))"
      ],
      "metadata": {
        "colab": {
          "base_uri": "https://localhost:8080/"
        },
        "id": "xp50xTIFAiEu",
        "outputId": "ce94a371-65bb-47ca-9c90-b42b1130ac6e"
      },
      "execution_count": 34,
      "outputs": [
        {
          "output_type": "stream",
          "name": "stdout",
          "text": [
            "Training:\n",
            "          MAE: 1.138521426987257\n",
            "          MSE: 2.2881409273868627\n",
            "          RMSE: 2.2881409273868627\n",
            "          R^2 0.7867197397384001\n",
            "Testing:\n",
            "          MAE: 1.737513719762171\n",
            "          MSE: 4.058399111064503\n",
            "          RMSE: 4.058399111064503\n",
            "          R^2 0.7018435274902803\n"
          ]
        }
      ]
    },
    {
      "cell_type": "code",
      "source": [
        "plt.scatter(x, y)\n",
        "plt.scatter(x_test, y_pred)"
      ],
      "metadata": {
        "colab": {
          "base_uri": "https://localhost:8080/",
          "height": 447
        },
        "id": "5nuAmyE8B9vQ",
        "outputId": "c5c944d0-6bbe-40ae-ecfc-7669167a2c64"
      },
      "execution_count": 35,
      "outputs": [
        {
          "output_type": "execute_result",
          "data": {
            "text/plain": [
              "<matplotlib.collections.PathCollection at 0x79f6b0f17b50>"
            ]
          },
          "metadata": {},
          "execution_count": 35
        },
        {
          "output_type": "display_data",
          "data": {
            "text/plain": [
              "<Figure size 640x480 with 1 Axes>"
            ],
            "image/png": "[encoded data removed]"
          },
          "metadata": {}
        }
      ]
    },
    {
      "cell_type": "markdown",
      "source": [
        "### Nope!\n",
        "High degree polynomial regression may result in Overfitting -- Training result is better, but testing result is poor!"
      ],
      "metadata": {
        "id": "3xLImL7qDz9h"
      }
    }
  ]
}